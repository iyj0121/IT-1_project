{
 "cells": [
  {
   "cell_type": "code",
   "execution_count": 1,
   "metadata": {},
   "outputs": [],
   "source": [
    "from tqdm import tqdm\n",
    "from seleniumwire import webdriver \n",
    "from time import sleep\n",
    "import requests\n",
    "import json\n",
    "import pandas as pd\n",
    "from selenium.webdriver.common.by import By\n",
    "\n",
    "\n",
    "def google_reviews(store_list,gu,count=10):\n",
    "\n",
    "    #드라이버 실행\n",
    "    options = webdriver.ChromeOptions()\n",
    "    options.add_argument(\"user-agent=Mozilla/5.0 (Macintosh; Intel Mac OS X 10_12_6) AppleWebKit/537.36 (KHTML, like Gecko) Chrome/61.0.3163.100 Safari/537.36\")\n",
    "    driver = webdriver.Chrome('/Users/im-yeongje/python/chromedriver',options=options)   #chromedriver 경로 지정!\n",
    "    driver.get('https://www.google.co.kr/maps')\n",
    "    sleep(3)\n",
    "\n",
    "    # 리스트 형식으로 저장된 가게 하나씩 검색\n",
    "    for store in store_list:\n",
    "        count=count\n",
    "        driver.get('https://www.google.co.kr/maps')\n",
    "        result_list=[]\n",
    "        sleep(3)\n",
    "        query_input=driver.find_element(By.CLASS_NAME, 'tactile-searchbox-input')\n",
    "        query_input.send_keys(gu+store+'\\n')\n",
    "        \n",
    "        # 의도한 가게와 검색결과가 같은지 확인\n",
    "        sleep(5)\n",
    "        check=input('일치하는 가게를 클릭 후 y를 눌러주세요(이외 멈춤)')\n",
    "        if check.upper()=='Y':\n",
    "            now_url=driver.current_url\n",
    "        else:\n",
    "            break\n",
    "        \n",
    "        # 리뷰 더보기로 이동\n",
    "        more_btn=driver.find_element(By.XPATH, '//*[@id=\"pane\"]/div/div[1]/div/div/div[2]/div[1]/div[1]/div[2]/div/div[1]/span[1]/span/span/span[2]/span[1]/button')\n",
    "        more_btn.click()\n",
    "        views=int(''.join(more_btn.text[2:-1].split(',')))//10\n",
    "        \n",
    "        # div태그 스크롤 \n",
    "        sleep(8)\n",
    "        js_scripts = '''\n",
    "        let aa = document.getElementsByClassName('section-scrollbox')[0];\n",
    "        setTimeout(()=>{aa.scroll(0,1000000)}, 1000);\n",
    "        '''\n",
    "        driver.execute_script(js_scripts)\n",
    "        sleep(3) \n",
    "        \n",
    "        # 헤더값 찾기\n",
    "        for request in driver.requests:\n",
    "            if request.response:\n",
    "                pb=request.url.split('pb=')\n",
    "                if len(pb)==2:\n",
    "                    if pb[1][:6]=='!1m2!1':\n",
    "                        url_l=request.url.split('!2m2!1i')\n",
    "                        break\n",
    "                        \n",
    "        # json파일 들고와 리뷰 10개씩 저장하기\n",
    "        # 리뷰의 수가 count보다 작을 경우 count를 리뷰의 수로 변경\n",
    "        if count>views:\n",
    "            for number in tqdm(range(views)):\n",
    "                resp=requests.get((url_l[0]+'!2m2!1i'+'{}'+url_l[1]).format(number))\n",
    "                review = json.loads(resp.text[5:])\n",
    "                for user in range(10):\n",
    "                    result_list.append({\n",
    "                        'ID':review[2][user][0][1],\n",
    "                        '내용':review[2][user][3],\n",
    "                        '날짜':review[2][user][1],\n",
    "                        '별점':review[2][user][4]})\n",
    "        else:\n",
    "            for number in tqdm(range(count)):\n",
    "                resp=requests.get((url_l[0]+'!2m2!1i'+'{}'+url_l[1]).format(number))\n",
    "                review = json.loads(resp.text[5:])\n",
    "                for user in range(10):\n",
    "                    result_list.append({\n",
    "                        'ID':review[2][user][0][1],\n",
    "                        '내용':review[2][user][3],\n",
    "                        '날짜':review[2][user][1],\n",
    "                        '별점':review[2][user][4]})\n",
    "                    \n",
    "        # csv로 저장\n",
    "        df=pd.DataFrame(result_list)\n",
    "        df.to_csv('{}.csv'.format(store))\n"
   ]
  },
  {
   "cell_type": "code",
   "execution_count": 3,
   "metadata": {},
   "outputs": [
    {
     "ename": "NoSuchElementException",
     "evalue": "Message: no such element: Unable to locate element: {\"method\":\"xpath\",\"selector\":\"//*[@id=\"pane\"]/div/div[1]/div/div/div[2]/div[1]/div[1]/div[2]/div/div[1]/span[1]/span/span/span[2]/span[1]/button\"}\n  (Session info: chrome=106.0.5249.119)\nStacktrace:\n0   chromedriver                        0x0000000102e9af44 chromedriver + 3813188\n1   chromedriver                        0x0000000102e2cae0 chromedriver + 3361504\n2   chromedriver                        0x0000000102b30c5c chromedriver + 232540\n3   chromedriver                        0x0000000102b62380 chromedriver + 435072\n4   chromedriver                        0x0000000102b8ff44 chromedriver + 622404\n5   chromedriver                        0x0000000102b57358 chromedriver + 389976\n6   chromedriver                        0x0000000102b58284 chromedriver + 393860\n7   chromedriver                        0x0000000102e6ee18 chromedriver + 3632664\n8   chromedriver                        0x0000000102e7297c chromedriver + 3647868\n9   chromedriver                        0x0000000102e78b58 chromedriver + 3672920\n10  chromedriver                        0x0000000102e73350 chromedriver + 3650384\n11  chromedriver                        0x0000000102e508dc chromedriver + 3508444\n12  chromedriver                        0x0000000102e8d914 chromedriver + 3758356\n13  chromedriver                        0x0000000102e8da78 chromedriver + 3758712\n14  chromedriver                        0x0000000102ea16cc chromedriver + 3839692\n15  libsystem_pthread.dylib             0x000000018634026c _pthread_start + 148\n16  libsystem_pthread.dylib             0x000000018633b08c thread_start + 8\n",
     "output_type": "error",
     "traceback": [
      "\u001b[0;31m---------------------------------------------------------------------------\u001b[0m",
      "\u001b[0;31mNoSuchElementException\u001b[0m                    Traceback (most recent call last)",
      "Cell \u001b[0;32mIn [3], line 4\u001b[0m\n\u001b[1;32m      1\u001b[0m \u001b[39m# 사용하기\u001b[39;00m\n\u001b[1;32m      2\u001b[0m store_list\u001b[39m=\u001b[39m[\u001b[39m'\u001b[39m\u001b[39m알베르\u001b[39m\u001b[39m'\u001b[39m, \u001b[39m'\u001b[39m\u001b[39m블루보틀\u001b[39m\u001b[39m'\u001b[39m, \u001b[39m'\u001b[39m\u001b[39mC 27\u001b[39m\u001b[39m'\u001b[39m] \u001b[39m# 가게명 저장\u001b[39;00m\n\u001b[0;32m----> 4\u001b[0m google_reviews(store_list,\u001b[39m'\u001b[39m\u001b[39m강남\u001b[39m\u001b[39m'\u001b[39m,\u001b[39m5\u001b[39m)\n",
      "Cell \u001b[0;32mIn [1], line 37\u001b[0m, in \u001b[0;36mgoogle_reviews\u001b[0;34m(store_list, gu, count)\u001b[0m\n\u001b[1;32m     34\u001b[0m     \u001b[39mbreak\u001b[39;00m\n\u001b[1;32m     36\u001b[0m \u001b[39m# 리뷰 더보기로 이동\u001b[39;00m\n\u001b[0;32m---> 37\u001b[0m more_btn\u001b[39m=\u001b[39mdriver\u001b[39m.\u001b[39;49mfind_element(By\u001b[39m.\u001b[39;49mXPATH, \u001b[39m'\u001b[39;49m\u001b[39m//*[@id=\u001b[39;49m\u001b[39m\"\u001b[39;49m\u001b[39mpane\u001b[39;49m\u001b[39m\"\u001b[39;49m\u001b[39m]/div/div[1]/div/div/div[2]/div[1]/div[1]/div[2]/div/div[1]/span[1]/span/span/span[2]/span[1]/button\u001b[39;49m\u001b[39m'\u001b[39;49m)\n\u001b[1;32m     38\u001b[0m more_btn\u001b[39m.\u001b[39mclick()\n\u001b[1;32m     39\u001b[0m views\u001b[39m=\u001b[39m\u001b[39mint\u001b[39m(\u001b[39m'\u001b[39m\u001b[39m'\u001b[39m\u001b[39m.\u001b[39mjoin(more_btn\u001b[39m.\u001b[39mtext[\u001b[39m2\u001b[39m:\u001b[39m-\u001b[39m\u001b[39m1\u001b[39m]\u001b[39m.\u001b[39msplit(\u001b[39m'\u001b[39m\u001b[39m,\u001b[39m\u001b[39m'\u001b[39m)))\u001b[39m/\u001b[39m\u001b[39m/\u001b[39m\u001b[39m10\u001b[39m\n",
      "File \u001b[0;32m/Library/Frameworks/Python.framework/Versions/3.10/lib/python3.10/site-packages/selenium/webdriver/remote/webdriver.py:856\u001b[0m, in \u001b[0;36mWebDriver.find_element\u001b[0;34m(self, by, value)\u001b[0m\n\u001b[1;32m    853\u001b[0m     by \u001b[39m=\u001b[39m By\u001b[39m.\u001b[39mCSS_SELECTOR\n\u001b[1;32m    854\u001b[0m     value \u001b[39m=\u001b[39m \u001b[39m'\u001b[39m\u001b[39m[name=\u001b[39m\u001b[39m\"\u001b[39m\u001b[39m%s\u001b[39;00m\u001b[39m\"\u001b[39m\u001b[39m]\u001b[39m\u001b[39m'\u001b[39m \u001b[39m%\u001b[39m value\n\u001b[0;32m--> 856\u001b[0m \u001b[39mreturn\u001b[39;00m \u001b[39mself\u001b[39;49m\u001b[39m.\u001b[39;49mexecute(Command\u001b[39m.\u001b[39;49mFIND_ELEMENT, {\n\u001b[1;32m    857\u001b[0m     \u001b[39m'\u001b[39;49m\u001b[39musing\u001b[39;49m\u001b[39m'\u001b[39;49m: by,\n\u001b[1;32m    858\u001b[0m     \u001b[39m'\u001b[39;49m\u001b[39mvalue\u001b[39;49m\u001b[39m'\u001b[39;49m: value})[\u001b[39m'\u001b[39m\u001b[39mvalue\u001b[39m\u001b[39m'\u001b[39m]\n",
      "File \u001b[0;32m/Library/Frameworks/Python.framework/Versions/3.10/lib/python3.10/site-packages/selenium/webdriver/remote/webdriver.py:429\u001b[0m, in \u001b[0;36mWebDriver.execute\u001b[0;34m(self, driver_command, params)\u001b[0m\n\u001b[1;32m    427\u001b[0m response \u001b[39m=\u001b[39m \u001b[39mself\u001b[39m\u001b[39m.\u001b[39mcommand_executor\u001b[39m.\u001b[39mexecute(driver_command, params)\n\u001b[1;32m    428\u001b[0m \u001b[39mif\u001b[39;00m response:\n\u001b[0;32m--> 429\u001b[0m     \u001b[39mself\u001b[39;49m\u001b[39m.\u001b[39;49merror_handler\u001b[39m.\u001b[39;49mcheck_response(response)\n\u001b[1;32m    430\u001b[0m     response[\u001b[39m'\u001b[39m\u001b[39mvalue\u001b[39m\u001b[39m'\u001b[39m] \u001b[39m=\u001b[39m \u001b[39mself\u001b[39m\u001b[39m.\u001b[39m_unwrap_value(\n\u001b[1;32m    431\u001b[0m         response\u001b[39m.\u001b[39mget(\u001b[39m'\u001b[39m\u001b[39mvalue\u001b[39m\u001b[39m'\u001b[39m, \u001b[39mNone\u001b[39;00m))\n\u001b[1;32m    432\u001b[0m     \u001b[39mreturn\u001b[39;00m response\n",
      "File \u001b[0;32m/Library/Frameworks/Python.framework/Versions/3.10/lib/python3.10/site-packages/selenium/webdriver/remote/errorhandler.py:243\u001b[0m, in \u001b[0;36mErrorHandler.check_response\u001b[0;34m(self, response)\u001b[0m\n\u001b[1;32m    241\u001b[0m         alert_text \u001b[39m=\u001b[39m value[\u001b[39m'\u001b[39m\u001b[39malert\u001b[39m\u001b[39m'\u001b[39m]\u001b[39m.\u001b[39mget(\u001b[39m'\u001b[39m\u001b[39mtext\u001b[39m\u001b[39m'\u001b[39m)\n\u001b[1;32m    242\u001b[0m     \u001b[39mraise\u001b[39;00m exception_class(message, screen, stacktrace, alert_text)  \u001b[39m# type: ignore[call-arg]  # mypy is not smart enough here\u001b[39;00m\n\u001b[0;32m--> 243\u001b[0m \u001b[39mraise\u001b[39;00m exception_class(message, screen, stacktrace)\n",
      "\u001b[0;31mNoSuchElementException\u001b[0m: Message: no such element: Unable to locate element: {\"method\":\"xpath\",\"selector\":\"//*[@id=\"pane\"]/div/div[1]/div/div/div[2]/div[1]/div[1]/div[2]/div/div[1]/span[1]/span/span/span[2]/span[1]/button\"}\n  (Session info: chrome=106.0.5249.119)\nStacktrace:\n0   chromedriver                        0x0000000102e9af44 chromedriver + 3813188\n1   chromedriver                        0x0000000102e2cae0 chromedriver + 3361504\n2   chromedriver                        0x0000000102b30c5c chromedriver + 232540\n3   chromedriver                        0x0000000102b62380 chromedriver + 435072\n4   chromedriver                        0x0000000102b8ff44 chromedriver + 622404\n5   chromedriver                        0x0000000102b57358 chromedriver + 389976\n6   chromedriver                        0x0000000102b58284 chromedriver + 393860\n7   chromedriver                        0x0000000102e6ee18 chromedriver + 3632664\n8   chromedriver                        0x0000000102e7297c chromedriver + 3647868\n9   chromedriver                        0x0000000102e78b58 chromedriver + 3672920\n10  chromedriver                        0x0000000102e73350 chromedriver + 3650384\n11  chromedriver                        0x0000000102e508dc chromedriver + 3508444\n12  chromedriver                        0x0000000102e8d914 chromedriver + 3758356\n13  chromedriver                        0x0000000102e8da78 chromedriver + 3758712\n14  chromedriver                        0x0000000102ea16cc chromedriver + 3839692\n15  libsystem_pthread.dylib             0x000000018634026c _pthread_start + 148\n16  libsystem_pthread.dylib             0x000000018633b08c thread_start + 8\n"
     ]
    }
   ],
   "source": [
    "# 사용하기\n",
    "store_list=['알베르', '블루보틀', 'C 27'] # 가게명 저장\n",
    "\n",
    "google_reviews(store_list,'강남',5) #함수 실행\n"
   ]
  }
 ],
 "metadata": {
  "kernelspec": {
   "display_name": "Python 3.10.7 64-bit",
   "language": "python",
   "name": "python3"
  },
  "language_info": {
   "codemirror_mode": {
    "name": "ipython",
    "version": 3
   },
   "file_extension": ".py",
   "mimetype": "text/x-python",
   "name": "python",
   "nbconvert_exporter": "python",
   "pygments_lexer": "ipython3",
   "version": "3.10.7"
  },
  "orig_nbformat": 4,
  "vscode": {
   "interpreter": {
    "hash": "aee8b7b246df8f9039afb4144a1f6fd8d2ca17a180786b69acc140d282b71a49"
   }
  }
 },
 "nbformat": 4,
 "nbformat_minor": 2
}

{
 "cells": [
  {
   "cell_type": "code",
   "execution_count": null,
   "metadata": {},
   "outputs": [],
   "source": [
    "def set_chrome_driver(): # chrome driver 초기 세팅\n",
    "\n",
    "    options = webdriver.ChromeOptions()\n",
    "    options.add_argument(\"--disable-blink-features=AutomationControlled\")\n",
    "\n",
    "    options.add_experimental_option(\"excludeSwitches\", [\"enable-automation\"])\n",
    "    options.add_experimental_option(\"useAutomationExtension\", False)\n",
    "    options.add_experimental_option(\"prefs\", {\"prfile.managed_default_content_setting.images\": 2})\n",
    "    driver = webdriver.Chrome(executable_path='/Users/sunho99/PycharmProjects/python_Project/selenium_project/chromedriver', options=options)\n",
    "    return driver"
   ]
  },
  {
   "cell_type": "code",
   "execution_count": null,
   "metadata": {},
   "outputs": [],
   "source": [
    "driver.find_element(By.XPATH,'/html/body/div[3]/div/header/section/div/div/form/fieldset/a').click()  # 검색창 클릭"
   ]
  },
  {
   "cell_type": "code",
   "execution_count": null,
   "metadata": {},
   "outputs": [],
   "source": [
    "from selenium.webdriver.common.by import By\n",
    "\n",
    "driver.find_element(By.XPATH, '//button[text()=\"Some text\"]')\n",
    "driver.find_element(By.XPATH, '//button')\n",
    "driver.find_element(By.ID, 'loginForm')\n",
    "driver.find_element(By.LINK_TEXT, 'Continue')\n",
    "driver.find_element(By.PARTIAL_LINK_TEXT, 'Conti')\n",
    "driver.find_element(By.NAME, 'username')\n",
    "driver.find_element(By.TAG_NAME, 'h1')\n",
    "driver.find_element(By.CLASS_NAME, 'content')\n",
    "driver.find_element(By.CSS_SELECTOR, 'p.content')\n",
    "\n",
    "driver.find_elements(By.ID, 'loginForm')\n",
    "driver.find_elements(By.CLASS_NAME, 'content')"
   ]
  },
  {
   "cell_type": "code",
   "execution_count": null,
   "metadata": {},
   "outputs": [],
   "source": [
    "from selenium import webdriver\n",
    "\n",
    "from selenium.webdriver.common.keys import Keys\n",
    "from selenium.webdriver.common.by import By\n",
    "import time\n",
    "\n",
    "options = webdriver.ChromeOptions()\n",
    "options.add_argument(\"--disable-blink-features=AutomationControlled\")\n",
    "\n",
    "options.add_experimental_option(\"excludeSwitches\", [\"enable-automation\"])\n",
    "options.add_experimental_option(\"useAutomationExtension\", False)\n",
    "options.add_experimental_option(\"prefs\", {\"prfile.managed_default_content_setting.images\": 2})\n",
    "driver = webdriver.Chrome(executable_path='/Users/sunho99/PycharmProjects/python_Project/selenium_project/chromedriver', options=options)\n",
    "\n",
    "\n",
    "url = 'https://www.coupang.com/'\n",
    "driver.get(url=url)\n",
    "time.sleep(2)\n",
    "search_input = driver.find_element(By.XPATH,'//*[@id=\"headerSearchKeyword\"]')\n",
    "search_input.send_keys(\"%s\" % \"신라면\")\n",
    "\n",
    "driver.find_element(By.XPATH,'/html/body/div[3]/div/header/section/div/div/form/fieldset/a').click()  # 검색창 클릭\n",
    "\n",
    "driver.find_element(By.XPATH,'/html/body/div[3]/section/form/div[2]/div[2]/ul/li[1]/a/dl/dt/img').click()  # 이미지 클릭\n",
    "time.sleep(2)\n",
    "driver.switch_to.window(driver.window_handles[-1])  # 새 팝업창으로 스위칭\n",
    "time.sleep(5)\n",
    "for i in range(10):\n",
    "    driver.find_element(By.TAG_NAME,value=\"body\").send_keys(Keys.PAGE_DOWN)  # 내리기\n",
    "    time.sleep(2)\n",
    "    \n",
    "def review_crawling():\n",
    "    page_text = \"\"\n",
    "    for i in range(5):\n",
    "        text = driver.find_element(By.CLASS_NAME,\n",
    "                                   value=\"sdp-review__article__list__review.js_reviewArticleContentContainer\").text\n",
    "        page_text += text + \"\\n\"\n",
    "        review = driver.find_element(By.CLASS_NAME, value = \"sdp-review__article__list__survey\").text\n",
    "        time.sleep(2)\n",
    "        page_text += review + \"\\n\"\n",
    "    time.sleep(2)\n",
    "    return page_text\n",
    "\n",
    "total_text = \"\""
   ]
  },
  {
   "cell_type": "code",
   "execution_count": null,
   "metadata": {},
   "outputs": [],
   "source": [
    "driver.switch_to.window(driver.window_handles[-1])  # 새 팝업창으로 스위칭"
   ]
  },
  {
   "cell_type": "code",
   "execution_count": null,
   "metadata": {},
   "outputs": [],
   "source": [
    "for i in range(10):\n",
    "    driver.find_element(By.TAG_NAME,value=\"body\").send_keys(Keys.PAGE_DOWN)  # 내리기\n",
    "    time.sleep(2)"
   ]
  }
 ],
 "metadata": {
  "kernelspec": {
   "display_name": "Python 3.10.7 64-bit",
   "language": "python",
   "name": "python3"
  },
  "language_info": {
   "codemirror_mode": {
    "name": "ipython",
    "version": 3
   },
   "file_extension": ".py",
   "mimetype": "text/x-python",
   "name": "python",
   "nbconvert_exporter": "python",
   "pygments_lexer": "ipython3",
   "version": "3.10.7"
  },
  "orig_nbformat": 4,
  "vscode": {
   "interpreter": {
    "hash": "aee8b7b246df8f9039afb4144a1f6fd8d2ca17a180786b69acc140d282b71a49"
   }
  }
 },
 "nbformat": 4,
 "nbformat_minor": 2
}
